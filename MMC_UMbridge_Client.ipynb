{
 "cells": [
  {
   "cell_type": "markdown",
   "id": "57af43aa-4af2-474b-afb1-71ba4482a593",
   "metadata": {},
   "source": [
    "def get_input_sizes(self, config):\n",
    "\n",
    "        return [1, 1, 1, 1, 1, 1, 6, 6, 1, 1] \n",
    "        \n",
    "for the values 6 is for R_arm, L_arm etc., 6 is for u_1:6, initial conditions for x, angular frequency, time  \n",
    "\n",
    "We need\n",
    "\n",
    "* Six individual parameters (R_arm, L_arm, etc.)\n",
    "\n",
    "* Two arrays of size 6 (for u_1:6, initial conditions for x_1:6)\n",
    "\n",
    "* One angular frequency (omega)\n",
    "\n",
    "* One time (T)"
   ]
  },
  {
   "cell_type": "code",
   "execution_count": 1,
   "id": "99bbf528-9a67-4944-aa26-9e90e95b30e2",
   "metadata": {},
   "outputs": [
    {
     "name": "stdout",
     "output_type": "stream",
     "text": [
      "[[0.0, -2.4878398314440178, -5.999107851083893, -7.9988104681118575, -5.549772570993613, -6.659727085192336]]\n"
     ]
    }
   ],
   "source": [
    "import umbridge\n",
    "\n",
    "# Initialize the model\n",
    "model = umbridge.HTTPModel(\"http://localhost:4242\", \"forward\")\n",
    "\n",
    "# Define the input parameters\n",
    "R_arm = [0.5]     # Example value for R_arm\n",
    "R_DC = [0.1]      # Example value for R_DC\n",
    "R_AC = [0.2]      # Example value for R_AC\n",
    "L_arm = [0.3]     # Example value for L_arm\n",
    "L_DC = [0.4]      # Example value for L_DC\n",
    "L_AC = [0.5]      # Example value for L_AC\n",
    "u_parameters = [1, 2, 3, 4, 5, 6]  # Example values for u_1 to u_6 (size 6)\n",
    "x_initial = [0, 0, 0, 0, 0, 0]      # Example initial conditions for x (size 6)\n",
    "omega = [50]                  # Example angular frequency\n",
    "T = [10]                               # Example time\n",
    "\n",
    "\n",
    "# Create the parameters list\n",
    "parameters = [R_arm, R_DC, R_AC, L_arm, L_DC, L_AC, u_parameters, x_initial, omega, T]\n",
    "\n",
    "\n",
    "# Call the model\n",
    "result = model(parameters)\n",
    "print(result)\n"
   ]
  },
  {
   "cell_type": "code",
   "execution_count": null,
   "id": "38305a91-b519-4aae-8dc7-ea09660ee816",
   "metadata": {},
   "outputs": [],
   "source": [
    "[]"
   ]
  }
 ],
 "metadata": {
  "kernelspec": {
   "display_name": "Python 3 (ipykernel)",
   "language": "python",
   "name": "python3"
  },
  "language_info": {
   "codemirror_mode": {
    "name": "ipython",
    "version": 3
   },
   "file_extension": ".py",
   "mimetype": "text/x-python",
   "name": "python",
   "nbconvert_exporter": "python",
   "pygments_lexer": "ipython3",
   "version": "3.11.8"
  }
 },
 "nbformat": 4,
 "nbformat_minor": 5
}
