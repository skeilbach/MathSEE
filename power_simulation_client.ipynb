{
 "cells": [
  {
   "cell_type": "code",
   "execution_count": null,
   "metadata": {},
   "outputs": [],
   "source": [
    "import numpy as np\n",
    "\n",
    "# A matrix\n",
    "    def a(self, R_arm, R_DC, L_arm, L_DC, R_AC, L_AC, config): #inputs correct, TO-DO: define dimension n = 6 \n",
    "        A = np.zeros((self.n, self.n))\n",
    "        np.fill_diagonal(A, [0, -(R_arm+3*R_DC)/(L_arm+3*L_DC), -(R_arm)/(L_arm), -(R_arm)/(L_arm), -(R_arm+2*R_AC)/(L_arm+2*L_AC), -(R_arm+2*R_AC)/(L_arm+2*L_AC)])\n",
    "        return A\n",
    "    # B matrix\n",
    "    def b(self, L_arm, L_DC, L_AC, config): #inputs updated, TO-DO: define dimension n = 6  \n",
    "        B = np.zeros((self.n, self.n))\n",
    "        np.fill_diagonal(B, [0, -(1)/(L_arm+3*L_DC), -(1)/(L_arm), -(1)/(L_arm), -(1)/(L_arm+2*L_AC), -(1)/(L_arm+2*L_AC)])\n",
    "        return B\n",
    "    # F matrix\n",
    "    def f(self, L_arm, L_DC, L_AC, config): #inputs updated, TO-DO: define dimensions n x m = 6 x 4\n",
    "        F = np.zeros((self.n , self.m))\n",
    "        F[2,4] = (-(np.sqrt(6)))/(2*L_arm+6*L_DC)\n",
    "        F[5,1] = (1/(L_arm+2*L_AC))\n",
    "        F[5,2] = (-1/(L_arm+2*L_AC))\n",
    "        F[6,1] = (np.sqrt(3)/(3*L_arm+6*L_AC))\n",
    "        F[6,2] = (np.sqrt(3)/(3*L_arm+6*L_AC))\n",
    "        F[6,3] = (-(np.sqrt(3))/(3*L_arm+6*L_AC))\n",
    "        #np.fill_diagonal(F, [0, -(R_arm+3*R_DC)/(L_arm+3*L_DC), -(R_arm)/(L_arm), -(R_arm)/(L_arm), -(R_arm+2*R_AC)/(L_arm+2*L_AC), -(R_arm+2*R_AC)/(L_arm+2*L_AC)])\n",
    "        return F\n",
    "    # C matrix\n",
    "    def c(self, config): #inputs updated, TO-DO: define dimension n = 6  \n",
    "        C = np.zeros((self.n, self.n))\n",
    "        C[1,1] = 2\n",
    "        C[5,5] = 2\n",
    "        C[6,6] =2\n",
    "        return C\n"
   ]
  }
 ],
 "metadata": {
  "kernelspec": {
   "display_name": "Python 3",
   "language": "python",
   "name": "python3"
  },
  "language_info": {
   "name": "python",
   "version": "3.12.3"
  }
 },
 "nbformat": 4,
 "nbformat_minor": 2
}
