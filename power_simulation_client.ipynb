{
 "cells": [
  {
   "cell_type": "code",
   "execution_count": null,
   "metadata": {},
   "outputs": [],
   "source": [
    "import numpy as np\n",
    "\n",
    "# A matrix\n",
    "    def a(self, n, R_arm, R_DC, L_arm, L_DC, R_AC, L_AC, config): #inputs correct\n",
    "        A = np.zeros((self.n, self.n))\n",
    "        np.fill_diagonal(A, [0, -(R_arm+3*R_DC)/(L_arm+3*L_DC), -(R_arm)/(L_arm), -(R_arm)/(L_arm), -(R_arm+2*R_AC)/(L_arm+2*L_AC), -(R_arm+2*R_AC)/(L_arm+2*L_AC)])\n",
    "        return A\n",
    "    # B matrix\n",
    "    def b(self, n, L_arm, L_DC, L_AC, config): #inputs updated \n",
    "        B = np.zeros((self.n, self.n))\n",
    "        np.fill_diagonal(B, [0, -(1)/(L_arm+3*L_DC), -(1)/(L_arm), -(1)/(L_arm), -(1)/(L_arm+2*L_AC), -(1)/(L_arm+2*L_AC)])\n",
    "        return B\n",
    "    # F matrix\n",
    "    def f(self, n, L_arm, L_DC, L_AC, config): #inputs updated\n",
    "        F = np.zeros((self.n , self.n -2))\n",
    "        np.fill_diagonal(A, [0, -(R_arm+3*R_DC)/(L_arm+3*L_DC), -(R_arm)/(L_arm), -(R_arm)/(L_arm), -(R_arm+2*R_AC)/(L_arm+2*L_AC), -(R_arm+2*R_AC)/(L_arm+2*L_AC)])\n",
    "        return F"
   ]
  }
 ],
 "metadata": {
  "kernelspec": {
   "display_name": "Python 3",
   "language": "python",
   "name": "python3"
  },
  "language_info": {
   "name": "python",
   "version": "3.12.3"
  }
 },
 "nbformat": 4,
 "nbformat_minor": 2
}
