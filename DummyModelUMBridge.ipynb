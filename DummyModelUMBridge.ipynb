{
 "cells": [
  {
   "cell_type": "code",
   "execution_count": null,
   "metadata": {},
   "outputs": [],
   "source": [
    "import numpy as np\n",
    "from scipy.integrate import solve_ivp \n",
    "import matplotlib.pyplot as plt\n",
    "import nest_asyncio\n",
    "nest_asyncio.apply()\n",
    "import math\n",
    "import scipy.integrate as integrate\n",
    "import scipy.special as special\n",
    "import umbridge\n",
    "\n",
    "class DummyModel(umbridge.Model):\n",
    "    def __init__(self):\n",
    "        super().__init__(\"forward\")\n",
    "    \n",
    "    def get_input_sizes(self, config): \n",
    "        return [14]  \n",
    "        \n",
    "    def get_output_sizes(self, config):\n",
    "        return [1] \n",
    "\n",
    "    def __call__(self, parameters, config):\n",
    "        result = 0\n",
    "        for i in range(0,14):\n",
    "            result += parameters[0][i] \n",
    "        return [[result]]\n",
    "    \n",
    "    def supports_evaluate(self):\n",
    "        return True\n",
    "\n",
    "dummy_model = DummyModel()\n",
    "umbridge.serve_models([dummy_model], 4243) # starting the serverimport numpy as np"
   ]
  }
 ],
 "metadata": {
  "language_info": {
   "name": "python"
  }
 },
 "nbformat": 4,
 "nbformat_minor": 2
}
