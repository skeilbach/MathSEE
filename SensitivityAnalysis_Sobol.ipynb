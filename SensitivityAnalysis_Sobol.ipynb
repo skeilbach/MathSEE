{
 "cells": [
  {
   "cell_type": "code",
   "execution_count": 30,
   "metadata": {},
   "outputs": [
    {
     "name": "stderr",
     "output_type": "stream",
     "text": [
      "C:\\Users\\felix\\AppData\\Local\\Temp\\ipykernel_876\\23674675.py:19: DeprecationWarning: `salib.sample.saltelli` will be removed in SALib 1.5.1 Please use `salib.sample.sobol`\n",
      "  param_values = saltelli.sample(problem, 16, calc_second_order=True)\n"
     ]
    },
    {
     "name": "stdout",
     "output_type": "stream",
     "text": [
      "           ST   ST_conf\n",
      "X1   0.000000  0.000000\n",
      "X2   0.445415  0.384643\n",
      "X3   0.000000  0.000000\n",
      "X4   0.305677  0.174967\n",
      "X5   0.000000  0.000000\n",
      "X6   0.000000  0.000000\n",
      "X7   0.000000  0.000000\n",
      "X8   0.000000  0.000000\n",
      "X9   0.000000  0.000000\n",
      "X10  0.375546  0.254699\n",
      "X11  0.000000  0.000000\n",
      "X12  0.000000  0.000000\n",
      "X13  0.000000  0.000000\n",
      "X14  0.000000  0.000000\n",
      "           S1   S1_conf\n",
      "X1   0.000000  0.000000\n",
      "X2   0.183406  0.336827\n",
      "X3   0.000000  0.000000\n",
      "X4   0.340611  0.340503\n",
      "X5   0.000000  0.000000\n",
      "X6   0.000000  0.000000\n",
      "X7   0.000000  0.000000\n",
      "X8   0.000000  0.000000\n",
      "X9   0.000000  0.000000\n",
      "X10  0.550218  0.468322\n",
      "X11  0.000000  0.000000\n",
      "X12  0.000000  0.000000\n",
      "X13  0.000000  0.000000\n",
      "X14  0.000000  0.000000\n",
      "                      S2       S2_conf\n",
      "(X1, X2)   -2.775558e-17  6.782589e-17\n",
      "(X1, X3)    0.000000e+00  0.000000e+00\n",
      "(X1, X4)   -5.551115e-17  9.097313e-17\n",
      "(X1, X5)    0.000000e+00  0.000000e+00\n",
      "(X1, X6)    0.000000e+00  0.000000e+00\n",
      "...                  ...           ...\n",
      "(X11, X13)  0.000000e+00  0.000000e+00\n",
      "(X11, X14)  0.000000e+00  0.000000e+00\n",
      "(X12, X13)  0.000000e+00  0.000000e+00\n",
      "(X12, X14)  0.000000e+00  0.000000e+00\n",
      "(X13, X14)  0.000000e+00  0.000000e+00\n",
      "\n",
      "[91 rows x 2 columns]\n",
      "Erste Sobol-Indizes: [0.         0.18340611 0.         0.34061135 0.         0.\n",
      " 0.         0.         0.         0.55021834 0.         0.\n",
      " 0.         0.        ]\n",
      "Totale Sobol-Indizes: [0.         0.44541485 0.         0.30567686 0.         0.\n",
      " 0.         0.         0.         0.37554585 0.         0.\n",
      " 0.         0.        ]\n"
     ]
    },
    {
     "name": "stderr",
     "output_type": "stream",
     "text": [
      "C:\\Users\\felix\\AppData\\Local\\Packages\\PythonSoftwareFoundation.Python.3.12_qbz5n2kfra8p0\\LocalCache\\local-packages\\Python312\\site-packages\\SALib\\util\\__init__.py:274: FutureWarning: unique with argument that is not not a Series, Index, ExtensionArray, or np.ndarray is deprecated and will raise in a future version.\n",
      "  names = list(pd.unique(groups))\n"
     ]
    }
   ],
   "source": [
    "from SALib.analyze import sobol\n",
    "from SALib.sample import saltelli\n",
    "import numpy as np\n",
    "import umbridge\n",
    "import pandas as pd\n",
    "\n",
    "model = umbridge.HTTPModel(\"http://localhost:4243\", \"forward\")\n",
    "\n",
    "# Definiere das Problem\n",
    "problem = {\n",
    "    'num_vars': 14,\n",
    "    'names': ['X{}'.format(i) for i in range(1, 15)],  # Namen der Input-Variablen\n",
    "    'bounds': [[0, 1]] * 14  # Für normalverteilte Daten, 3 Standardabweichungen\n",
    "}\n",
    "\n",
    "param_values = saltelli.sample(problem, 16, calc_second_order=True)\n",
    "\n",
    "temperatur_list = [model([list(_samples)])[0][0] for _samples in param_values]\n",
    "\n",
    "# Führe die Sensitivitätsanalyse durch\n",
    "Si = sobol.analyze(problem, np.array(temperatur_list), print_to_console=True)\n",
    "\n",
    "# Ausgabe der ersten und totalen Sobol-Indizes\n",
    "print(\"Erste Sobol-Indizes:\", Si['S1'])\n",
    "print(\"Totale Sobol-Indizes:\", Si['ST'])"
   ]
  },
  {
   "cell_type": "code",
   "execution_count": null,
   "metadata": {},
   "outputs": [],
   "source": []
  }
 ],
 "metadata": {
  "kernelspec": {
   "display_name": "Python 3",
   "language": "python",
   "name": "python3"
  },
  "language_info": {
   "codemirror_mode": {
    "name": "ipython",
    "version": 3
   },
   "file_extension": ".py",
   "mimetype": "text/x-python",
   "name": "python",
   "nbconvert_exporter": "python",
   "pygments_lexer": "ipython3",
   "version": "3.12.7"
  }
 },
 "nbformat": 4,
 "nbformat_minor": 2
}
