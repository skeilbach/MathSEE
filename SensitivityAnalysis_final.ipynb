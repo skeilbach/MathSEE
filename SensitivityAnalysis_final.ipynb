{
 "cells": [
  {
   "cell_type": "code",
   "execution_count": 169,
   "metadata": {},
   "outputs": [],
   "source": [
    "import numpy as np\n",
    "import umbridge\n",
    "import pandas as pd\n",
    "import fmpy\n",
    "from fmpy import *"
   ]
  },
  {
   "cell_type": "code",
   "execution_count": 128,
   "metadata": {},
   "outputs": [],
   "source": [
    "\"\"\"\"\"\"\"\"\"\"\"\"\"\"\"\"\"\"\"\"\"\"\"\"\"\"\"\"\"\"\"\"\"\"\"\"\"\"\"\"\"\"\"\"\"\n",
    "estimation of parameters (DMEGC_18650_29E)\n",
    "\"\"\"\"\"\"\"\"\"\"\"\"\"\"\"\"\"\"\"\"\"\"\"\"\"\"\"\"\"\"\"\"\"\"\"\"\"\"\"\"\"\"\"\"\"\n",
    "R_th_c_i = 0.555; #Weil vereinfacht nur eine Schicht betrachtet wird (Annahme: recht genau)\n",
    "R_th_cell_cell_air = 0.01/(0.1*0.001*85) #Schätzwert da Abstand der Zellen nicht genau bekannt\n",
    "R_th_cell_cell_con = 0.01/(0.1*0.001*85) #Schätzwert da Abstand der Zellen nicht genau bekannt\n",
    "R_th_c_o = 0.555 #Weil vereinfacht nur eine Schicht betrachtet wird (Annahme: recht genau)\n",
    "R_th_cells_case = 1/(0.065 * 2 * np.pi * 0.009*5*7*22)+1/(0.4701*5) #Ungenau, da Fläche von Zellen größer als Fläche vom Case\n",
    "R_th_case_amb_1 = 2.3524 #right\n",
    "R_th_case_amb_2 = 0.8574 #top von Interesse wegen Lüftungsschlitzen\n",
    "R_th_case_amb_3 = 2.3524 #left\n",
    "R_th_case_amb_4 = 3.0574 #bottom Schätzwert da Übergang Stahl Plexiglas nicht bekannt\n",
    "R_th_case_amb_5 = 8.5584 #front\n",
    "R_th_case_amb_6 = 5.9909 #back\n",
    "#C_th_c_i = 14*22*34.932/2 #recht sicher, da eigentlich bekannte Werte\n",
    "#C_th_c_o = 14*22*34.932/2\n",
    "#C_th_case = 110 #uncertain, is calculated by multiplication of literature value for steel (550) (unclear if thats the right material) and mass of module (0.2) (also only approximational value"
   ]
  },
  {
   "cell_type": "code",
   "execution_count": 129,
   "metadata": {},
   "outputs": [],
   "source": [
    "\"\"\"\"\"\"\"\"\"\"\"\"\"\"\"\"\"\"\"\"\"\"\"\"\"\"\"\"\"\"\"\"\"\"\"\"\"\"\"\"\"\"\"\"\"\"\"\"\"\"\"\"\"\"\"\"\"\"\"\"\"\"\"\"\"\"\"\"\"\"\"\"\"\"\"\"\"\n",
    "generating independent random variables for monte carlo simulation \n",
    "\"\"\"\"\"\"\"\"\"\"\"\"\"\"\"\"\"\"\"\"\"\"\"\"\"\"\"\"\"\"\"\"\"\"\"\"\"\"\"\"\"\"\"\"\"\"\"\"\"\"\"\"\"\"\"\"\"\"\"\"\"\"\"\"\"\"\"\"\"\"\"\"\"\"\"\"\"\n",
    "parameters = [R_th_c_i, R_th_cell_cell_air, R_th_cell_cell_con, R_th_c_o, R_th_cells_case, R_th_case_amb_1, R_th_case_amb_2, R_th_case_amb_3, R_th_case_amb_4, R_th_case_amb_5, R_th_case_amb_6]\n",
    "uncertainty_intervals = []\n",
    "for parameter in parameters: \n",
    "    uncertainty_intervals.append([parameter-0.3*parameter, parameter+0.3*parameter])\n",
    "\n",
    "N = 2 # mc steps\n",
    "normal_distributed_samples = [np.random.normal(ew, sd, size=N).tolist() for ew,sd in uncertainty_intervals]\n",
    "observation_matrix_normal_distribution = pd.DataFrame({})\n",
    "for _sample in normal_distributed_samples:\n",
    "    observation_matrix_normal_distribution = pd.concat([observation_matrix_normal_distribution,pd.Series(_sample)], axis=1)\n",
    "observation_matrix_normal_distribution = observation_matrix_normal_distribution.T"
   ]
  },
  {
   "cell_type": "code",
   "execution_count": 167,
   "metadata": {},
   "outputs": [],
   "source": [
    "\"\"\"\"\"\"\"\"\"\"\"\"\"\"\"\"\"\"\"\"\"\"\"\"\"\"\"\"\"\"\"\"\"\"\"\"\"\"\"\"\"\"\"\"\"\"\"\"\"\"\"\"\"\"\"\"\"\"\"\"\"\"\"\"\"\"\"\"\"\"\"\"\"\"\"\"\"\n",
    "targeting the model of the heat circel from umbridge/simulink\n",
    "\"\"\"\"\"\"\"\"\"\"\"\"\"\"\"\"\"\"\"\"\"\"\"\"\"\"\"\"\"\"\"\"\"\"\"\"\"\"\"\"\"\"\"\"\"\"\"\"\"\"\"\"\"\"\"\"\"\"\"\"\"\"\"\"\"\"\"\"\"\"\"\"\"\"\"\"\"\n",
    "model = umbridge.HTTPModel(\"http://localhost:4242\", \"forward\")"
   ]
  },
  {
   "cell_type": "code",
   "execution_count": 197,
   "metadata": {},
   "outputs": [
    {
     "data": {
      "text/plain": [
       "[304.7435955450386, 307.77408090152903]"
      ]
     },
     "execution_count": 197,
     "metadata": {},
     "output_type": "execute_result"
    }
   ],
   "source": [
    "\"\"\"\"\"\"\"\"\"\"\"\"\"\"\"\"\"\"\"\"\"\"\"\"\"\"\"\"\"\"\"\"\"\"\"\"\"\"\"\"\"\"\"\"\"\"\"\"\"\"\"\"\"\"\"\"\"\"\"\"\"\"\"\"\"\"\"\"\"\"\"\"\"\"\"\"\"\n",
    "monte carlo simulation \n",
    "\"\"\"\"\"\"\"\"\"\"\"\"\"\"\"\"\"\"\"\"\"\"\"\"\"\"\"\"\"\"\"\"\"\"\"\"\"\"\"\"\"\"\"\"\"\"\"\"\"\"\"\"\"\"\"\"\"\"\"\"\"\"\"\"\"\"\"\"\"\"\"\"\"\"\"\"\"\n",
    "#mc_values_1 = [model([observation_matrix_normal_distribution[i].tolist()])[0][0] for i in range(0,N)]\n",
    "#mc_values_2 = [model([observation_matrix_normal_distribution[i].tolist()])[1][0] for i in range(0,N)]\n",
    "filename = 'C:/Users/felix/OneDrive/Documents/Master Mathematik/Modeling Week/batteriemodell_simscape_2output.fmu'\n",
    "\n",
    "temperature_list = []\n",
    "for i in range(N):\n",
    "\n",
    "    output = [\n",
    "            'Output',\n",
    "            'Output1',]\n",
    "\n",
    "    input_df = pd.DataFrame({\n",
    "        \"Input\": [observation_matrix_normal_distribution.iloc[0][i]], \n",
    "        \"Input1\": [observation_matrix_normal_distribution.iloc[1][i]], \n",
    "        \"Input2\": [observation_matrix_normal_distribution.iloc[2][i]], \n",
    "        \"Input3\": [observation_matrix_normal_distribution.iloc[3][i]], \n",
    "        \"Input4\": [observation_matrix_normal_distribution.iloc[4][i]], \n",
    "        \"Input5\": [observation_matrix_normal_distribution.iloc[5][i]], \n",
    "        \"Input6\": [observation_matrix_normal_distribution.iloc[6][i]], \n",
    "        \"Input7\": [observation_matrix_normal_distribution.iloc[7][i]], \n",
    "        \"Input8\": [observation_matrix_normal_distribution.iloc[8][i]], \n",
    "        \"Input9\": [observation_matrix_normal_distribution.iloc[9][i]],\n",
    "        \"Input10\": [observation_matrix_normal_distribution.iloc[10][i]]\n",
    "    }, index=[0])\n",
    "\n",
    "    input_df.insert(0, 'time', 0.0)  # Zeit-Spalte hinzufügen\n",
    "\n",
    "    input_df.to_csv('C:/Users/felix/OneDrive/Documents/Master Mathematik/Modeling Week/data/montecarlo.csv', index=False)\n",
    "\n",
    "    input = read_csv('C:/Users/felix/OneDrive/Documents/Master Mathematik/Modeling Week/data/montecarlo.csv')\n",
    "\n",
    "    result = simulate_fmu(filename, input=input, output=output, stop_time=10000)\n",
    "\n",
    "    temperature_list.append(result[-1])\n",
    "\n",
    "temperature_1_list = []\n",
    "temperature_2_list = []\n",
    "\n",
    "for i in range(N):\n",
    "    temperature_1_list.append(temperature_list[i][1])\n",
    "    temperature_2_list.append(temperature_list[i][2])"
   ]
  },
  {
   "cell_type": "code",
   "execution_count": 198,
   "metadata": {},
   "outputs": [
    {
     "name": "stdout",
     "output_type": "stream",
     "text": [
      "Monte Carlo Estimator for first output: 306.2588382232838\n",
      "Monte Carlo Estimator for second output: 296.3187331447376\n",
      "Standard deviation of Monte Carlo realisations for first output:  1.5152426782452153\n",
      "Standard deviation of Monte Carlo realisations for second output:  0.36293454224582433\n"
     ]
    }
   ],
   "source": [
    "mc_variance_1 = np.var(temperature_1_list)\n",
    "mc_variance_2 = np.var(temperature_2_list)\n",
    "mc_estimator_1 = np.mean(temperature_1_list)\n",
    "mc_estimator_2 = np.mean(temperature_2_list)\n",
    "print(\"Monte Carlo Estimator for first output:\", mc_estimator_1)\n",
    "print(\"Monte Carlo Estimator for second output:\", mc_estimator_2)\n",
    "print(\"Standard deviation of Monte Carlo realisations for first output: \", np.sqrt(mc_variance_1))\n",
    "print(\"Standard deviation of Monte Carlo realisations for second output: \", np.sqrt(mc_variance_2))"
   ]
  },
  {
   "cell_type": "code",
   "execution_count": null,
   "metadata": {},
   "outputs": [],
   "source": []
  }
 ],
 "metadata": {
  "kernelspec": {
   "display_name": "Python 3",
   "language": "python",
   "name": "python3"
  },
  "language_info": {
   "codemirror_mode": {
    "name": "ipython",
    "version": 3
   },
   "file_extension": ".py",
   "mimetype": "text/x-python",
   "name": "python",
   "nbconvert_exporter": "python",
   "pygments_lexer": "ipython3",
   "version": "3.12.7"
  }
 },
 "nbformat": 4,
 "nbformat_minor": 2
}
